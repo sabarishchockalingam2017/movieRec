{
 "cells": [
  {
   "cell_type": "code",
   "execution_count": 18,
   "metadata": {},
   "outputs": [],
   "source": [
    "import traceback\n",
    "from flask import render_template, request, redirect, url_for\n",
    "import logging.config\n",
    "#from app.models import UserInput\n",
    "from flask import Flask\n",
    "from src.add_movies import UserInput\n",
    "from flask_sqlalchemy import SQLAlchemy\n",
    "from src.helpers import helpers\n",
    "\n",
    "# Initialize the Flask application\n",
    "app = Flask(__name__)"
   ]
  },
  {
   "cell_type": "code",
   "execution_count": 2,
   "metadata": {},
   "outputs": [],
   "source": [
    "# Configure flask app from flask_config.py\n",
    "app.config.from_pyfile('./config/flask_config.py')\n",
    "\n",
    "# Define LOGGING_CONFIG in flask_config.py - path to config file for setting\n",
    "# up the logger (e.g. config/logging/local.conf)\n",
    "logging.config.fileConfig(app.config[\"LOGGING_CONFIG\"])\n",
    "logger = logging.getLogger(\"movieRecapp\")\n",
    "logger.debug('Test log')\n",
    "\n",
    "# Initialize the database\n",
    "#db = SQLAlchemy(app)"
   ]
  },
  {
   "cell_type": "code",
   "execution_count": 3,
   "metadata": {},
   "outputs": [],
   "source": [
    "logging.config.fileConfig(app.config[\"LOGGING_CONFIG\"])\n",
    "logger = logging.getLogger(\"movieRecapp\")\n",
    "logger.debug('Test log')\n",
    "\n",
    "# Initialize the database\n",
    "db = SQLAlchemy(app)\n"
   ]
  },
  {
   "cell_type": "code",
   "execution_count": 4,
   "metadata": {},
   "outputs": [],
   "source": [
    "userinput = UserInput(movie=\"Rush Hour\",rating=5)"
   ]
  },
  {
   "cell_type": "code",
   "execution_count": 5,
   "metadata": {},
   "outputs": [],
   "source": [
    "import os"
   ]
  },
  {
   "cell_type": "code",
   "execution_count": 16,
   "metadata": {},
   "outputs": [],
   "source": [
    "\n",
    "DATABASE_NAME = 'msia423'\n",
    "conn_type = \"mysql+pymysql\"\n",
    "user = os.environ.get(\"MYSQL_USER\")\n",
    "password = os.environ.get(\"MYSQL_PASSWORD\")\n",
    "host = os.environ.get(\"MYSQL_HOST\")\n",
    "port = os.environ.get(\"MYSQL_PORT\")\n",
    "engine_string = \"{}://{}:{}@{}:{}/{}\".format(conn_type, user, password, host, port, DATABASE_NAME)\n"
   ]
  },
  {
   "cell_type": "code",
   "execution_count": 15,
   "metadata": {},
   "outputs": [],
   "source": [
    "os.environ['MYSQL_USER']='root'\n",
    "os.environ['MYSQL_PASSWORD']='movierec'\n",
    "os.environ['MYSQL_HOST']=\"mysql-nw-schockalingam.c6vsb8kehwgn.us-east-2.rds.amazonaws.com\"\n",
    "os.environ['MYSQL_PORT']=\"3306\""
   ]
  },
  {
   "cell_type": "code",
   "execution_count": 20,
   "metadata": {},
   "outputs": [],
   "source": [
    "session = helpers.get_session(engine_string=engine_string)"
   ]
  },
  {
   "cell_type": "code",
   "execution_count": 21,
   "metadata": {},
   "outputs": [
    {
     "data": {
      "text/plain": [
       "4"
      ]
     },
     "execution_count": 21,
     "metadata": {},
     "output_type": "execute_result"
    }
   ],
   "source": [
    "session.query(UserInput).delete()"
   ]
  },
  {
   "cell_type": "code",
   "execution_count": 22,
   "metadata": {},
   "outputs": [],
   "source": [
    "session.commit()"
   ]
  }
 ],
 "metadata": {
  "kernelspec": {
   "display_name": "Python 3",
   "language": "python",
   "name": "python3"
  },
  "language_info": {
   "codemirror_mode": {
    "name": "ipython",
    "version": 3
   },
   "file_extension": ".py",
   "mimetype": "text/x-python",
   "name": "python",
   "nbconvert_exporter": "python",
   "pygments_lexer": "ipython3",
   "version": "3.7.3"
  }
 },
 "nbformat": 4,
 "nbformat_minor": 2
}
